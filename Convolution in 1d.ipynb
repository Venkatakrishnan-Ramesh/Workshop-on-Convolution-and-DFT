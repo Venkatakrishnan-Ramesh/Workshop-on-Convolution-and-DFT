{
 "cells": [
  {
   "cell_type": "markdown",
   "id": "82bc9d6d",
   "metadata": {},
   "source": [
    "# Analysis of Protein Binding Genome and classifying them"
   ]
  },
  {
   "cell_type": "code",
   "execution_count": 1,
   "id": "9b89a6e9",
   "metadata": {},
   "outputs": [],
   "source": [
    "import pandas as pd\n",
    "import numpy as np\n",
    "import matplotlib.pyplot as plt"
   ]
  },
  {
   "cell_type": "code",
   "execution_count": 2,
   "id": "8b42f179",
   "metadata": {},
   "outputs": [],
   "source": [
    "Dna_seq=pd.read_excel(r\"C:\\Users\\Desktop\\DNA-seq.xlsx\")"
   ]
  },
  {
   "cell_type": "code",
   "execution_count": 3,
   "id": "038e4341",
   "metadata": {},
   "outputs": [],
   "source": [
    "Dna_Label=pd.read_excel(r\"C:\\Users\\Desktop\\DNA-label.xlsx\")"
   ]
  },
  {
   "cell_type": "code",
   "execution_count": 4,
   "id": "f303c1ab",
   "metadata": {},
   "outputs": [],
   "source": [
    "protein_seq=pd.concat([Dna_seq,Dna_Label],axis=1)"
   ]
  },
  {
   "cell_type": "code",
   "execution_count": 5,
   "id": "49a5a916",
   "metadata": {},
   "outputs": [
    {
     "data": {
      "text/html": [
       "<div>\n",
       "<style scoped>\n",
       "    .dataframe tbody tr th:only-of-type {\n",
       "        vertical-align: middle;\n",
       "    }\n",
       "\n",
       "    .dataframe tbody tr th {\n",
       "        vertical-align: top;\n",
       "    }\n",
       "\n",
       "    .dataframe thead th {\n",
       "        text-align: right;\n",
       "    }\n",
       "</style>\n",
       "<table border=\"1\" class=\"dataframe\">\n",
       "  <thead>\n",
       "    <tr style=\"text-align: right;\">\n",
       "      <th></th>\n",
       "      <th>sequence</th>\n",
       "      <th>Label</th>\n",
       "    </tr>\n",
       "  </thead>\n",
       "  <tbody>\n",
       "    <tr>\n",
       "      <th>0</th>\n",
       "      <td>CCGAGGGCTATGGTTTGGAAGTTAGAACCCTGGGGCTTCTCGCGGA...</td>\n",
       "      <td>0</td>\n",
       "    </tr>\n",
       "    <tr>\n",
       "      <th>1</th>\n",
       "      <td>GAGTTTATATGGCGCGAGCCTAGTGGTTTTTGTACTTGTTTGTCGC...</td>\n",
       "      <td>0</td>\n",
       "    </tr>\n",
       "    <tr>\n",
       "      <th>2</th>\n",
       "      <td>GATCAGTAGGGAAACAAACAGAGGGCCCAGCCACATCTAGCAGGTA...</td>\n",
       "      <td>0</td>\n",
       "    </tr>\n",
       "    <tr>\n",
       "      <th>3</th>\n",
       "      <td>GTCCACGACCGAACTCCCACCTTGACCGCAGAGGTACCACCAGAGC...</td>\n",
       "      <td>1</td>\n",
       "    </tr>\n",
       "    <tr>\n",
       "      <th>4</th>\n",
       "      <td>GGCGACCGAACTCCAACTAGAACCTGCATAACTGGCCTGGGAGATA...</td>\n",
       "      <td>1</td>\n",
       "    </tr>\n",
       "  </tbody>\n",
       "</table>\n",
       "</div>"
      ],
      "text/plain": [
       "                                            sequence  Label\n",
       "0  CCGAGGGCTATGGTTTGGAAGTTAGAACCCTGGGGCTTCTCGCGGA...      0\n",
       "1  GAGTTTATATGGCGCGAGCCTAGTGGTTTTTGTACTTGTTTGTCGC...      0\n",
       "2  GATCAGTAGGGAAACAAACAGAGGGCCCAGCCACATCTAGCAGGTA...      0\n",
       "3  GTCCACGACCGAACTCCCACCTTGACCGCAGAGGTACCACCAGAGC...      1\n",
       "4  GGCGACCGAACTCCAACTAGAACCTGCATAACTGGCCTGGGAGATA...      1"
      ]
     },
     "execution_count": 5,
     "metadata": {},
     "output_type": "execute_result"
    }
   ],
   "source": [
    "protein_seq.head()"
   ]
  },
  {
   "cell_type": "markdown",
   "id": "5895c7fb",
   "metadata": {},
   "source": [
    "# Data Visualization"
   ]
  },
  {
   "cell_type": "code",
   "execution_count": 6,
   "id": "364d03c2",
   "metadata": {},
   "outputs": [
    {
     "data": {
      "text/plain": [
       "Text(0.5, 1.0, 'Class distribution of DNA binding proteins')"
      ]
     },
     "execution_count": 6,
     "metadata": {},
     "output_type": "execute_result"
    },
    {
     "data": {
      "image/png": "[encoded data removed]",
      "text/plain": [
       "<Figure size 576x432 with 1 Axes>"
      ]
     },
     "metadata": {
      "needs_background": "light"
     },
     "output_type": "display_data"
    }
   ],
   "source": [
    "plt.figure(figsize=(8,6))\n",
    "protein_seq['Label'].value_counts().sort_index().plot.bar()\n",
    "plt.title(\"Class distribution of DNA binding proteins\")"
   ]
  },
  {
   "cell_type": "markdown",
   "id": "45e59b4e",
   "metadata": {},
   "source": [
    "# Data preprocessing"
   ]
  },
  {
   "cell_type": "code",
   "execution_count": 7,
   "id": "426e46ed",
   "metadata": {},
   "outputs": [],
   "source": [
    "sequence = list(protein_seq['sequence'])\n",
    "encoded_list = []"
   ]
  },
  {
   "cell_type": "code",
   "execution_count": 44,
   "id": "1e5f22df",
   "metadata": {},
   "outputs": [
    {
     "data": {
      "text/plain": [
       "array([[[0, 0, 1, 0],\n",
       "        [0, 0, 1, 0],\n",
       "        [0, 0, 0, 1],\n",
       "        ...,\n",
       "        [1, 0, 0, 0],\n",
       "        [0, 0, 1, 0],\n",
       "        [0, 0, 1, 0]],\n",
       "\n",
       "       [[0, 0, 0, 1],\n",
       "        [1, 0, 0, 0],\n",
       "        [0, 0, 0, 1],\n",
       "        ...,\n",
       "        [0, 1, 0, 0],\n",
       "        [0, 0, 1, 0],\n",
       "        [0, 0, 0, 1]],\n",
       "\n",
       "       [[0, 0, 0, 1],\n",
       "        [1, 0, 0, 0],\n",
       "        [0, 1, 0, 0],\n",
       "        ...,\n",
       "        [0, 0, 1, 0],\n",
       "        [0, 0, 1, 0],\n",
       "        [0, 1, 0, 0]],\n",
       "\n",
       "       ...,\n",
       "\n",
       "       [[1, 0, 0, 0],\n",
       "        [0, 0, 1, 0],\n",
       "        [0, 1, 0, 0],\n",
       "        ...,\n",
       "        [1, 0, 0, 0],\n",
       "        [0, 0, 1, 0],\n",
       "        [0, 1, 0, 0]],\n",
       "\n",
       "       [[0, 1, 0, 0],\n",
       "        [0, 0, 0, 1],\n",
       "        [0, 0, 1, 0],\n",
       "        ...,\n",
       "        [0, 0, 0, 1],\n",
       "        [1, 0, 0, 0],\n",
       "        [1, 0, 0, 0]],\n",
       "\n",
       "       [[1, 0, 0, 0],\n",
       "        [1, 0, 0, 0],\n",
       "        [0, 1, 0, 0],\n",
       "        ...,\n",
       "        [0, 0, 0, 1],\n",
       "        [1, 0, 0, 0],\n",
       "        [0, 0, 1, 0]]])"
      ]
     },
     "execution_count": 44,
     "metadata": {},
     "output_type": "execute_result"
    }
   ],
   "source": [
    "def encode_seq(s):\n",
    "    Encode = {'A':[1,0,0,0],'T':[0,1,0,0],'C':[0,0,1,0],'G':[0,0,0,1]}\n",
    "    return [Encode[x] for x in s]\n",
    "\n",
    "for i in sequence:\n",
    "    x = encode_seq(i)\n",
    "    encoded_list.append(x)\n",
    "\n",
    "X = np.array(encoded_list)\n",
    "X.shape\n",
    "X"
   ]
  },
  {
   "cell_type": "code",
   "execution_count": 9,
   "id": "e80510de",
   "metadata": {},
   "outputs": [
    {
     "data": {
      "text/plain": [
       "0       0\n",
       "1       0\n",
       "2       0\n",
       "3       1\n",
       "4       1\n",
       "       ..\n",
       "1995    0\n",
       "1996    1\n",
       "1997    0\n",
       "1998    1\n",
       "1999    1\n",
       "Name: Label, Length: 2000, dtype: int64"
      ]
     },
     "execution_count": 9,
     "metadata": {},
     "output_type": "execute_result"
    }
   ],
   "source": [
    "y = protein_seq['Label']\n",
    "y"
   ]
  },
  {
   "cell_type": "code",
   "execution_count": 10,
   "id": "720e73a8",
   "metadata": {},
   "outputs": [],
   "source": [
    "import pandas as pd\n",
    "import numpy as np\n",
    "import os\n",
    "import tensorflow\n",
    "from tensorflow.keras import utils\n",
    "from sklearn.model_selection import train_test_split, GridSearchCV\n",
    "from tensorflow.keras.models import Sequential\n",
    "from tensorflow.keras.layers import Dense, Dropout, Flatten, Conv1D, MaxPooling1D, MaxPooling2D, Conv2D, LSTM, GRU, Bidirectional\n",
    "from tensorflow.keras import regularizers\n",
    "from tensorflow.keras.callbacks import EarlyStopping, ModelCheckpoint\n",
    "from tensorflow.keras.wrappers.scikit_learn import KerasClassifier"
   ]
  },
  {
   "cell_type": "code",
   "execution_count": 11,
   "id": "b9ef4716",
   "metadata": {},
   "outputs": [],
   "source": [
    "X_train, X_test, y_train, y_test_y = train_test_split(X, y,test_size=0.2,random_state=42)"
   ]
  },
  {
   "cell_type": "code",
   "execution_count": 12,
   "id": "2e23f19a",
   "metadata": {},
   "outputs": [],
   "source": [
    "y_train = utils.to_categorical(y_train)\n",
    "y_test = utils.to_categorical(y_test_y)"
   ]
  },
  {
   "cell_type": "markdown",
   "id": "1f66c9cc",
   "metadata": {},
   "source": [
    "# Training Models\n",
    "## Convolutional Neural Network(CNN)"
   ]
  },
  {
   "cell_type": "code",
   "execution_count": 13,
   "id": "d751e8e3",
   "metadata": {},
   "outputs": [
    {
     "name": "stdout",
     "output_type": "stream",
     "text": [
      "Epoch 1/10\n",
      "13/13 [==============================] - 1s 46ms/step - loss: 0.6864 - accuracy: 0.5606 - val_loss: 0.6643 - val_accuracy: 0.7075\n",
      "Epoch 2/10\n",
      "13/13 [==============================] - 0s 13ms/step - loss: 0.6285 - accuracy: 0.7550 - val_loss: 0.5902 - val_accuracy: 0.7650\n",
      "Epoch 3/10\n",
      "13/13 [==============================] - 0s 13ms/step - loss: 0.5236 - accuracy: 0.7975 - val_loss: 0.4708 - val_accuracy: 0.8150\n",
      "Epoch 4/10\n",
      "13/13 [==============================] - 0s 13ms/step - loss: 0.4036 - accuracy: 0.8500 - val_loss: 0.3864 - val_accuracy: 0.8300\n",
      "Epoch 5/10\n",
      "13/13 [==============================] - 0s 13ms/step - loss: 0.3371 - accuracy: 0.8675 - val_loss: 0.3387 - val_accuracy: 0.8650\n",
      "Epoch 6/10\n",
      "13/13 [==============================] - 0s 14ms/step - loss: 0.2640 - accuracy: 0.9013 - val_loss: 0.2957 - val_accuracy: 0.8825\n",
      "Epoch 7/10\n",
      "13/13 [==============================] - 0s 13ms/step - loss: 0.2171 - accuracy: 0.9231 - val_loss: 0.2445 - val_accuracy: 0.8950\n",
      "Epoch 8/10\n",
      "13/13 [==============================] - 0s 14ms/step - loss: 0.1755 - accuracy: 0.9444 - val_loss: 0.2264 - val_accuracy: 0.9100\n",
      "Epoch 9/10\n",
      "13/13 [==============================] - 0s 14ms/step - loss: 0.1438 - accuracy: 0.9544 - val_loss: 0.1910 - val_accuracy: 0.9325\n",
      "Epoch 10/10\n",
      "13/13 [==============================] - 0s 13ms/step - loss: 0.1156 - accuracy: 0.9656 - val_loss: 0.1861 - val_accuracy: 0.9225\n"
     ]
    }
   ],
   "source": [
    "cnn= Sequential()\n",
    "cnn.add(Conv1D(filters = 27, kernel_size = (4), activation = 'relu', input_shape = (50,4)))\n",
    "cnn.add(MaxPooling1D(pool_size= (3)))\n",
    "cnn.add(Flatten())\n",
    "cnn.add(Dense(128, activation = 'relu'))\n",
    "cnn.add(Dense(64, activation = 'relu'))\n",
    "cnn.add(Dense(2, activation = 'sigmoid'))\n",
    "cnn.compile(loss='binary_crossentropy',optimizer='adam',metrics=['accuracy'])\n",
    "history = cnn.fit(X_train, y_train, batch_size = 128, validation_data=(X_test, y_test), epochs=10)"
   ]
  },
  {
   "cell_type": "code",
   "execution_count": 14,
   "id": "feac0798",
   "metadata": {},
   "outputs": [
    {
     "name": "stdout",
     "output_type": "stream",
     "text": [
      "Model: \"sequential\"\n",
      "_________________________________________________________________\n",
      "Layer (type)                 Output Shape              Param #   \n",
      "=================================================================\n",
      "conv1d (Conv1D)              (None, 47, 27)            459       \n",
      "_________________________________________________________________\n",
      "max_pooling1d (MaxPooling1D) (None, 15, 27)            0         \n",
      "_________________________________________________________________\n",
      "flatten (Flatten)            (None, 405)               0         \n",
      "_________________________________________________________________\n",
      "dense (Dense)                (None, 128)               51968     \n",
      "_________________________________________________________________\n",
      "dense_1 (Dense)              (None, 64)                8256      \n",
      "_________________________________________________________________\n",
      "dense_2 (Dense)              (None, 2)                 130       \n",
      "=================================================================\n",
      "Total params: 60,813\n",
      "Trainable params: 60,813\n",
      "Non-trainable params: 0\n",
      "_________________________________________________________________\n"
     ]
    }
   ],
   "source": [
    "cnn.summary()"
   ]
  },
  {
   "cell_type": "code",
   "execution_count": 15,
   "id": "5333db48",
   "metadata": {},
   "outputs": [
    {
     "data": {
      "text/plain": [
       "<matplotlib.legend.Legend at 0x1087e15ddc0>"
      ]
     },
     "execution_count": 15,
     "metadata": {},
     "output_type": "execute_result"
    },
    {
     "data": {
      "image/png": "[encoded data removed]",
      "text/plain": [
       "<Figure size 504x432 with 1 Axes>"
      ]
     },
     "metadata": {
      "needs_background": "light"
     },
     "output_type": "display_data"
    }
   ],
   "source": [
    "plt.figure(figsize=(7,6))\n",
    "plt.plot(history.history['loss'], label='train')\n",
    "plt.plot(history.history['val_loss'], label='validation')\n",
    "plt.title('Loss Function for CNN Model')\n",
    "plt.xlabel('Epoch')\n",
    "plt.ylabel('Loss')\n",
    "plt.grid(True)\n",
    "plt.legend()"
   ]
  },
  {
   "cell_type": "code",
   "execution_count": 16,
   "id": "dca16242",
   "metadata": {},
   "outputs": [
    {
     "data": {
      "text/plain": [
       "<matplotlib.legend.Legend at 0x1087f1a1400>"
      ]
     },
     "execution_count": 16,
     "metadata": {},
     "output_type": "execute_result"
    },
    {
     "data": {
      "image/png": "[encoded data removed]",
      "text/plain": [
       "<Figure size 576x432 with 1 Axes>"
      ]
     },
     "metadata": {
      "needs_background": "light"
     },
     "output_type": "display_data"
    }
   ],
   "source": [
    "plt.figure(figsize=(8,6))\n",
    "plt.plot(history.history['accuracy'], label='train')\n",
    "plt.plot(history.history['val_accuracy'], label='validation')\n",
    "plt.grid(True)\n",
    "plt.title('Accuracy for CNN Model')\n",
    "plt.xlabel('Epoch')\n",
    "plt.ylabel('Accuracy(%)')\n",
    "plt.legend()"
   ]
  },
  {
   "cell_type": "code",
   "execution_count": 17,
   "id": "a265c8e6",
   "metadata": {},
   "outputs": [
    {
     "name": "stdout",
     "output_type": "stream",
     "text": [
      "WARNING:tensorflow:From <ipython-input-17-52cf2625ffd3>:2: Sequential.predict_classes (from tensorflow.python.keras.engine.sequential) is deprecated and will be removed after 2021-01-01.\n",
      "Instructions for updating:\n",
      "Please use instead:* `np.argmax(model.predict(x), axis=-1)`,   if your model does multi-class classification   (e.g. if it uses a `softmax` last-layer activation).* `(model.predict(x) > 0.5).astype(\"int32\")`,   if your model does binary classification   (e.g. if it uses a `sigmoid` last-layer activation).\n"
     ]
    }
   ],
   "source": [
    "yhat_probs  = cnn.predict(X_test)\n",
    "yhat_classes =cnn.predict_classes(X_test)"
   ]
  },
  {
   "cell_type": "code",
   "execution_count": 18,
   "id": "f7a8193f",
   "metadata": {},
   "outputs": [],
   "source": [
    "from sklearn.metrics import accuracy_score,precision_score,recall_score,f1_score\n",
    "accuracy = accuracy_score(y_test_y, yhat_classes)\n",
    "precision = precision_score(y_test_y, yhat_classes)\n",
    "recall = recall_score(y_test_y, yhat_classes)\n",
    "f1 = f1_score(y_test_y, yhat_classes)"
   ]
  },
  {
   "cell_type": "code",
   "execution_count": 19,
   "id": "3131963d",
   "metadata": {},
   "outputs": [
    {
     "name": "stdout",
     "output_type": "stream",
     "text": [
      " Classification Metrics for CNN:\n",
      "-------------------------------------------\n",
      "Accuracy  : 0.9225\n",
      "Precision : 0.9505494505494505\n",
      "Recall    : 0.8871794871794871\n",
      "f1        : 0.9177718832891246\n",
      "-------------------------------------------\n"
     ]
    }
   ],
   "source": [
    "print(' Classification Metrics for CNN:')\n",
    "print('-------------------------------------------')\n",
    "print('Accuracy  :',accuracy)\n",
    "print('Precision :',precision)\n",
    "print('Recall    :',recall)\n",
    "print('f1        :',f1)\n",
    "print('-------------------------------------------')"
   ]
  },
  {
   "cell_type": "markdown",
   "id": "8505714e",
   "metadata": {},
   "source": [
    "# CNN + LSTM"
   ]
  },
  {
   "cell_type": "code",
   "execution_count": 20,
   "id": "6221a60e",
   "metadata": {
    "scrolled": false
   },
   "outputs": [
    {
     "name": "stdout",
     "output_type": "stream",
     "text": [
      "Epoch 1/10\n",
      "13/13 [==============================] - 1s 72ms/step - loss: 0.9306 - accuracy: 0.5213 - val_loss: 0.9100 - val_accuracy: 0.5800\n",
      "Epoch 2/10\n",
      "13/13 [==============================] - 0s 35ms/step - loss: 0.8928 - accuracy: 0.6044 - val_loss: 0.8668 - val_accuracy: 0.6525\n",
      "Epoch 3/10\n",
      "13/13 [==============================] - 0s 35ms/step - loss: 0.8299 - accuracy: 0.7412 - val_loss: 0.7491 - val_accuracy: 0.8175\n",
      "Epoch 4/10\n",
      "13/13 [==============================] - 0s 35ms/step - loss: 0.6554 - accuracy: 0.8037 - val_loss: 0.5809 - val_accuracy: 0.8100\n",
      "Epoch 5/10\n",
      "13/13 [==============================] - 0s 38ms/step - loss: 0.4995 - accuracy: 0.8487 - val_loss: 0.5223 - val_accuracy: 0.8375\n",
      "Epoch 6/10\n",
      "13/13 [==============================] - 0s 38ms/step - loss: 0.4159 - accuracy: 0.8756 - val_loss: 0.3594 - val_accuracy: 0.9125\n",
      "Epoch 7/10\n",
      "13/13 [==============================] - 0s 36ms/step - loss: 0.3159 - accuracy: 0.9237 - val_loss: 0.2626 - val_accuracy: 0.9375\n",
      "Epoch 8/10\n",
      "13/13 [==============================] - 0s 35ms/step - loss: 0.2371 - accuracy: 0.9544 - val_loss: 0.2034 - val_accuracy: 0.9575\n",
      "Epoch 9/10\n",
      "13/13 [==============================] - 0s 35ms/step - loss: 0.2019 - accuracy: 0.9650 - val_loss: 0.1525 - val_accuracy: 0.9825\n",
      "Epoch 10/10\n",
      "13/13 [==============================] - 0s 38ms/step - loss: 0.1672 - accuracy: 0.9731 - val_loss: 0.1424 - val_accuracy: 0.9825\n"
     ]
    }
   ],
   "source": [
    "lstm = Sequential()\n",
    "lstm.add(Conv1D(filters = 27, kernel_size = (4), activation = 'relu', input_shape = (50,4)))\n",
    "lstm.add(MaxPooling1D(pool_size= (3)))\n",
    "lstm.add(Conv1D(filters = 14, kernel_size = (2), activation = 'relu', padding = 'same'))\n",
    "lstm.add(MaxPooling1D(pool_size= (2)))\n",
    "lstm.add(LSTM(128, activation = 'relu'))\n",
    "lstm.add(Dense(64, activation = 'relu'))\n",
    "lstm.add(Dense(16, activation = 'relu', kernel_regularizer = regularizers.l2(0.01)))\n",
    "lstm.add(Dense(2, activation = 'sigmoid'))\n",
    "lstm.compile(loss='binary_crossentropy',optimizer='adam',metrics=['accuracy'])\n",
    "history = lstm.fit(X_train, y_train, batch_size = 128, validation_data=(X_test, y_test), epochs=10)"
   ]
  },
  {
   "cell_type": "code",
   "execution_count": 21,
   "id": "13e27900",
   "metadata": {},
   "outputs": [
    {
     "name": "stdout",
     "output_type": "stream",
     "text": [
      "Model: \"sequential_1\"\n",
      "_________________________________________________________________\n",
      "Layer (type)                 Output Shape              Param #   \n",
      "=================================================================\n",
      "conv1d_1 (Conv1D)            (None, 47, 27)            459       \n",
      "_________________________________________________________________\n",
      "max_pooling1d_1 (MaxPooling1 (None, 15, 27)            0         \n",
      "_________________________________________________________________\n",
      "conv1d_2 (Conv1D)            (None, 15, 14)            770       \n",
      "_________________________________________________________________\n",
      "max_pooling1d_2 (MaxPooling1 (None, 7, 14)             0         \n",
      "_________________________________________________________________\n",
      "lstm (LSTM)                  (None, 128)               73216     \n",
      "_________________________________________________________________\n",
      "dense_3 (Dense)              (None, 64)                8256      \n",
      "_________________________________________________________________\n",
      "dense_4 (Dense)              (None, 16)                1040      \n",
      "_________________________________________________________________\n",
      "dense_5 (Dense)              (None, 2)                 34        \n",
      "=================================================================\n",
      "Total params: 83,775\n",
      "Trainable params: 83,775\n",
      "Non-trainable params: 0\n",
      "_________________________________________________________________\n"
     ]
    }
   ],
   "source": [
    "lstm.summary()"
   ]
  },
  {
   "cell_type": "code",
   "execution_count": 22,
   "id": "2818b2cb",
   "metadata": {},
   "outputs": [
    {
     "data": {
      "text/plain": [
       "<matplotlib.legend.Legend at 0x108020049d0>"
      ]
     },
     "execution_count": 22,
     "metadata": {},
     "output_type": "execute_result"
    },
    {
     "data": {
      "image/png": "[encoded data removed]",
      "text/plain": [
       "<Figure size 576x432 with 1 Axes>"
      ]
     },
     "metadata": {
      "needs_background": "light"
     },
     "output_type": "display_data"
    }
   ],
   "source": [
    "plt.figure(figsize=(8,6))\n",
    "plt.plot(history.history['loss'], label='train')\n",
    "plt.plot(history.history['val_loss'], label='validation')\n",
    "plt.title('Loss Function for CNN + LSTM Model')\n",
    "plt.xlabel('Epoch')\n",
    "plt.ylabel('Loss')\n",
    "plt.grid(True)\n",
    "plt.legend()"
   ]
  },
  {
   "cell_type": "code",
   "execution_count": 23,
   "id": "ab660ff3",
   "metadata": {},
   "outputs": [
    {
     "data": {
      "text/plain": [
       "<matplotlib.legend.Legend at 0x1080206ffa0>"
      ]
     },
     "execution_count": 23,
     "metadata": {},
     "output_type": "execute_result"
    },
    {
     "data": {
      "image/png": "[encoded data removed]",
      "text/plain": [
       "<Figure size 576x432 with 1 Axes>"
      ]
     },
     "metadata": {
      "needs_background": "light"
     },
     "output_type": "display_data"
    }
   ],
   "source": [
    "plt.figure(figsize=(8,6))\n",
    "plt.plot(history.history['accuracy'], label='train')\n",
    "plt.plot(history.history['val_accuracy'], label='validation')\n",
    "plt.grid(True)\n",
    "plt.title('Accuracy for CNN + LSTM Model')\n",
    "plt.xlabel('Epoch')\n",
    "plt.ylabel('Accuracy (%)')\n",
    "plt.legend()"
   ]
  },
  {
   "cell_type": "code",
   "execution_count": 34,
   "id": "33c246f4",
   "metadata": {},
   "outputs": [],
   "source": [
    "yhat_probs  = lstm.predict(X_test)\n",
    "yhat_classes =lstm.predict_classes(X_test)"
   ]
  },
  {
   "cell_type": "code",
   "execution_count": 35,
   "id": "e6998e39",
   "metadata": {},
   "outputs": [],
   "source": [
    "from sklearn.metrics import accuracy_score,precision_score,recall_score,f1_score\n",
    "accuracy = accuracy_score(y_test_y, yhat_classes)\n",
    "precision = precision_score(y_test_y, yhat_classes)\n",
    "recall = recall_score(y_test_y, yhat_classes)\n",
    "f1 = f1_score(y_test_y, yhat_classes)"
   ]
  },
  {
   "cell_type": "code",
   "execution_count": 36,
   "id": "54049e11",
   "metadata": {},
   "outputs": [
    {
     "name": "stdout",
     "output_type": "stream",
     "text": [
      "      Classification Metrics for CNN-LSTM:\n",
      "-------------------------------------------\n",
      "Accuracy  : 0.9825\n",
      "Precision : 0.9947368421052631\n",
      "Recall    : 0.9692307692307692\n",
      "f1        : 0.9818181818181819\n",
      "-------------------------------------------\n"
     ]
    }
   ],
   "source": [
    "print('      Classification Metrics for CNN-LSTM:')\n",
    "print('-------------------------------------------')\n",
    "print('Accuracy  :',accuracy)\n",
    "print('Precision :',precision)\n",
    "print('Recall    :',recall)\n",
    "print('f1        :',f1)\n",
    "print('-------------------------------------------')"
   ]
  },
  {
   "cell_type": "markdown",
   "id": "275b468a",
   "metadata": {},
   "source": [
    "# CNN + Bidirectional LSTM"
   ]
  },
  {
   "cell_type": "code",
   "execution_count": 37,
   "id": "0d506bd6",
   "metadata": {},
   "outputs": [
    {
     "name": "stdout",
     "output_type": "stream",
     "text": [
      "Epoch 1/10\n",
      "13/13 [==============================] - 2s 125ms/step - loss: 0.9225 - accuracy: 0.5913 - val_loss: 0.8964 - val_accuracy: 0.7725\n",
      "Epoch 2/10\n",
      "13/13 [==============================] - 1s 44ms/step - loss: 0.8634 - accuracy: 0.7569 - val_loss: 0.7995 - val_accuracy: 0.8000\n",
      "Epoch 3/10\n",
      "13/13 [==============================] - 1s 44ms/step - loss: 0.6819 - accuracy: 0.8369 - val_loss: 0.5152 - val_accuracy: 0.8275\n",
      "Epoch 4/10\n",
      "13/13 [==============================] - 1s 42ms/step - loss: 0.4509 - accuracy: 0.8775 - val_loss: 0.3774 - val_accuracy: 0.8925\n",
      "Epoch 5/10\n",
      "13/13 [==============================] - 1s 45ms/step - loss: 0.3205 - accuracy: 0.9350 - val_loss: 0.2541 - val_accuracy: 0.9575\n",
      "Epoch 6/10\n",
      "13/13 [==============================] - 1s 51ms/step - loss: 0.2403 - accuracy: 0.9556 - val_loss: 0.1884 - val_accuracy: 0.9750\n",
      "Epoch 7/10\n",
      "13/13 [==============================] - 1s 45ms/step - loss: 0.1626 - accuracy: 0.9862 - val_loss: 0.1370 - val_accuracy: 0.9850\n",
      "Epoch 8/10\n",
      "13/13 [==============================] - 1s 44ms/step - loss: 0.1320 - accuracy: 0.9900 - val_loss: 0.1207 - val_accuracy: 0.9925\n",
      "Epoch 9/10\n",
      "13/13 [==============================] - 1s 45ms/step - loss: 0.1060 - accuracy: 0.9950 - val_loss: 0.0964 - val_accuracy: 0.9900\n",
      "Epoch 10/10\n",
      "13/13 [==============================] - 1s 50ms/step - loss: 0.0998 - accuracy: 0.9937 - val_loss: 0.0860 - val_accuracy: 0.9925\n"
     ]
    }
   ],
   "source": [
    "Bi_lstm=Sequential()\n",
    "Bi_lstm.add(Conv1D(filters = 27, kernel_size = (4), activation = 'relu', input_shape = (50, 4)))\n",
    "Bi_lstm.add(MaxPooling1D(pool_size= (3)))\n",
    "Bi_lstm.add(Conv1D(filters = 14, kernel_size = (2), activation = 'relu', padding = 'same'))\n",
    "Bi_lstm.add(MaxPooling1D(pool_size= (2)))\n",
    "Bi_lstm.add(Bidirectional(LSTM(128, activation = 'relu')))\n",
    "Bi_lstm.add(Dense(128, activation = 'relu'))\n",
    "Bi_lstm.add(Dense(64, activation = 'relu'))\n",
    "Bi_lstm.add(Dense(16, activation = 'relu',kernel_regularizer = regularizers.l2(0.01)))\n",
    "Bi_lstm.add(Dense(2, activation = 'sigmoid'))\n",
    "Bi_lstm.compile(loss='binary_crossentropy',optimizer='adam',metrics=['accuracy'])\n",
    "history = Bi_lstm.fit(X_train, y_train, batch_size =128, validation_data=(X_test, y_test), epochs=10)"
   ]
  },
  {
   "cell_type": "code",
   "execution_count": 38,
   "id": "c233e268",
   "metadata": {},
   "outputs": [
    {
     "name": "stdout",
     "output_type": "stream",
     "text": [
      "Model: \"sequential_3\"\n",
      "_________________________________________________________________\n",
      "Layer (type)                 Output Shape              Param #   \n",
      "=================================================================\n",
      "conv1d_5 (Conv1D)            (None, 47, 27)            459       \n",
      "_________________________________________________________________\n",
      "max_pooling1d_5 (MaxPooling1 (None, 15, 27)            0         \n",
      "_________________________________________________________________\n",
      "conv1d_6 (Conv1D)            (None, 15, 14)            770       \n",
      "_________________________________________________________________\n",
      "max_pooling1d_6 (MaxPooling1 (None, 7, 14)             0         \n",
      "_________________________________________________________________\n",
      "bidirectional_1 (Bidirection (None, 256)               146432    \n",
      "_________________________________________________________________\n",
      "dense_10 (Dense)             (None, 128)               32896     \n",
      "_________________________________________________________________\n",
      "dense_11 (Dense)             (None, 64)                8256      \n",
      "_________________________________________________________________\n",
      "dense_12 (Dense)             (None, 16)                1040      \n",
      "_________________________________________________________________\n",
      "dense_13 (Dense)             (None, 2)                 34        \n",
      "=================================================================\n",
      "Total params: 189,887\n",
      "Trainable params: 189,887\n",
      "Non-trainable params: 0\n",
      "_________________________________________________________________\n"
     ]
    }
   ],
   "source": [
    "Bi_lstm.summary()"
   ]
  },
  {
   "cell_type": "code",
   "execution_count": 39,
   "id": "eaf1c93d",
   "metadata": {},
   "outputs": [
    {
     "data": {
      "text/plain": [
       "<matplotlib.legend.Legend at 0x1080bf5acd0>"
      ]
     },
     "execution_count": 39,
     "metadata": {},
     "output_type": "execute_result"
    },
    {
     "data": {
      "image/png": "[encoded data removed]",
      "text/plain": [
       "<Figure size 576x432 with 1 Axes>"
      ]
     },
     "metadata": {
      "needs_background": "light"
     },
     "output_type": "display_data"
    }
   ],
   "source": [
    "plt.figure(figsize=(8,6))\n",
    "plt.plot(history.history['loss'], label='train')\n",
    "plt.plot(history.history['val_loss'], label='validation')\n",
    "plt.title('Loss Function for CNN + Bidirectional LSTM Model')\n",
    "plt.xlabel('Epoch')\n",
    "plt.ylabel('Loss')\n",
    "plt.grid(True)\n",
    "plt.legend()"
   ]
  },
  {
   "cell_type": "code",
   "execution_count": 40,
   "id": "60aff483",
   "metadata": {},
   "outputs": [
    {
     "data": {
      "text/plain": [
       "<matplotlib.legend.Legend at 0x1080cf9afd0>"
      ]
     },
     "execution_count": 40,
     "metadata": {},
     "output_type": "execute_result"
    },
    {
     "data": {
      "image/png": "[encoded data removed]",
      "text/plain": [
       "<Figure size 576x432 with 1 Axes>"
      ]
     },
     "metadata": {
      "needs_background": "light"
     },
     "output_type": "display_data"
    }
   ],
   "source": [
    "plt.figure(figsize=(8,6))\n",
    "plt.plot(history.history['accuracy'], label='train')\n",
    "plt.plot(history.history['val_accuracy'], label='validation')\n",
    "plt.grid(True)\n",
    "plt.title('Accuracy for CNN + Bidirectional LSTM Model')\n",
    "plt.xlabel('Epoch')\n",
    "plt.ylabel('Accuracy(%)')\n",
    "plt.legend()"
   ]
  },
  {
   "cell_type": "code",
   "execution_count": 41,
   "id": "05f900d6",
   "metadata": {},
   "outputs": [],
   "source": [
    "yhat_probs  = Bi_lstm.predict(X_test)\n",
    "yhat_classes =Bi_lstm.predict_classes(X_test)"
   ]
  },
  {
   "cell_type": "code",
   "execution_count": 42,
   "id": "9c4c0431",
   "metadata": {},
   "outputs": [],
   "source": [
    "from sklearn.metrics import accuracy_score,precision_score,recall_score,f1_score\n",
    "accuracy = accuracy_score(y_test_y, yhat_classes)\n",
    "precision = precision_score(y_test_y, yhat_classes)\n",
    "recall = recall_score(y_test_y, yhat_classes)\n",
    "f1 = f1_score(y_test_y, yhat_classes)"
   ]
  },
  {
   "cell_type": "code",
   "execution_count": 43,
   "id": "a8328ce9",
   "metadata": {},
   "outputs": [
    {
     "name": "stdout",
     "output_type": "stream",
     "text": [
      " Classification Metrics for CNN-Bidirectional LSTM:\n",
      "-------------------------------------------\n",
      "Accuracy  : 0.9925\n",
      "Precision : 0.9848484848484849\n",
      "Recall    : 1.0\n",
      "f1        : 0.9923664122137404\n",
      "-------------------------------------------\n"
     ]
    }
   ],
   "source": [
    "print(' Classification Metrics for CNN-Bidirectional LSTM:')\n",
    "print('-------------------------------------------')\n",
    "print('Accuracy  :',accuracy)\n",
    "print('Precision :',precision)\n",
    "print('Recall    :',recall)\n",
    "print('f1        :',f1)\n",
    "print('-------------------------------------------')"
   ]
  }
 ],
 "metadata": {
  "kernelspec": {
   "display_name": "Python 3 (ipykernel)",
   "language": "python",
   "name": "python3"
  },
  "language_info": {
   "codemirror_mode": {
    "name": "ipython",
    "version": 3
   },
   "file_extension": ".py",
   "mimetype": "text/x-python",
   "name": "python",
   "nbconvert_exporter": "python",
   "pygments_lexer": "ipython3",
   "version": "3.9.7"
  }
 },
 "nbformat": 4,
 "nbformat_minor": 5
}
